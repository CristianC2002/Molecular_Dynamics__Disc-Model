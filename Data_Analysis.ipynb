{
 "cells": [
  {
   "cell_type": "code",
   "execution_count": 1,
   "metadata": {},
   "outputs": [],
   "source": [
    "import pandas as pd\n",
    "import numpy as np\n",
    "import os\n",
    "import re\n",
    "import time\n",
    "import datetime\n",
    "import gc\n",
    "import string\n",
    "import re\n",
    "import seaborn as sns \n",
    "import matplotlib.pyplot as plt \n",
    "\n",
    "\n",
    "Partic_DF=pd.read_csv(r\"E:\\Cristian\\1. Molecular Dinamics\\2. Python Projects\\3. Jupiter Code\\3. Test\\Particle_Data.csv\")\n",
    "\n",
    "System_DF=pd.read_csv(r\"E:\\Cristian\\1. Molecular Dinamics\\2. Python Projects\\3. Jupiter Code\\3. Test\\System_Data.csv\")\n"
   ]
  },
  {
   "cell_type": "code",
   "execution_count": 2,
   "metadata": {},
   "outputs": [],
   "source": [
    "def obtener_columnas_object(dataframe):\n",
    "    columnas_object = []\n",
    "    tipos_datos = dataframe.dtypes\n",
    "    for columna, tipo in tipos_datos.items():\n",
    "        if tipo == 'object':\n",
    "            columnas_object.append(columna)\n",
    "    return columnas_object\n",
    "\n",
    "# -------- Conversión de data types y alistamiento de dataframes originales --------\n",
    "\n",
    "columns_to_convert = obtener_columnas_object(System_DF)\n",
    "# print(columns_to_convert)\n",
    "System_DF[columns_to_convert] = System_DF[columns_to_convert].replace(',', '.', regex=True)\n",
    "System_DF[columns_to_convert] = System_DF[columns_to_convert].astype(float)\n",
    "# print(System_DF.dtypes)\n",
    "\n",
    "columns_to_convert = obtener_columnas_object(Partic_DF)\n",
    "# print(columns_to_convert)\n",
    "Partic_DF[columns_to_convert] = Partic_DF[columns_to_convert].replace(',', '.', regex=True)\n",
    "Partic_DF[columns_to_convert] = Partic_DF[columns_to_convert].astype(float)\n",
    "# print(Partic_DF.dtypes)\n"
   ]
  }
 ],
 "metadata": {
  "kernelspec": {
   "display_name": "Python 3",
   "language": "python",
   "name": "python3"
  },
  "language_info": {
   "codemirror_mode": {
    "name": "ipython",
    "version": 3
   },
   "file_extension": ".py",
   "mimetype": "text/x-python",
   "name": "python",
   "nbconvert_exporter": "python",
   "pygments_lexer": "ipython3",
   "version": "3.9.13"
  },
  "orig_nbformat": 4
 },
 "nbformat": 4,
 "nbformat_minor": 2
}
