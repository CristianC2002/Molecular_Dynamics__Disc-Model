{
 "cells": [
  {
   "cell_type": "code",
   "execution_count": null,
   "metadata": {},
   "outputs": [],
   "source": [
    "import pandas as pd\n",
    "import numpy as np\n",
    "import os\n",
    "import re\n",
    "import time\n",
    "import datetime\n",
    "import gc\n",
    "import string\n",
    "import re\n",
    "import seaborn as sns \n",
    "import matplotlib.pyplot as plt \n",
    "import math\n",
    "\n",
    "from decimal import Decimal, getcontext\n",
    "\n",
    "# getcontext().prec = 9\n",
    "# pd.set_option(\"display.precision\", 9)\n",
    "\n",
    "m = 1\n",
    "N = 2*50\n",
    "kB = 1\n",
    "Temp_Target = 1\n",
    "\n",
    "Partic_DF=pd.read_csv(r\"E:\\Cristian\\1. Molecular Dinamics\\2. Python Projects\\3. Jupiter Code\\3. Test\\Analitica Nosee Hoover IG\\Particle_Data.csv\")\n",
    "\n",
    "System_DF=pd.read_csv(r\"E:\\Cristian\\1. Molecular Dinamics\\2. Python Projects\\3. Jupiter Code\\3. Test\\Analitica Nosee Hoover IG\\System_Data.csv\")\n"
   ]
  },
  {
   "cell_type": "code",
   "execution_count": null,
   "metadata": {},
   "outputs": [],
   "source": [
    "def obtener_columnas_object(dataframe):\n",
    "    columnas_object = []\n",
    "    tipos_datos = dataframe.dtypes\n",
    "    for columna, tipo in tipos_datos.items():\n",
    "        if tipo == 'object':\n",
    "            columnas_object.append(columna)\n",
    "    return columnas_object\n",
    "\n",
    "# -------- Conversión de data types y alistamiento de dataframes originales --------\n",
    "\n",
    "columns_to_convert = obtener_columnas_object(System_DF)\n",
    "# print(columns_to_convert)\n",
    "System_DF[columns_to_convert] = System_DF[columns_to_convert].replace(',', '.', regex=True)\n",
    "System_DF[columns_to_convert] = System_DF[columns_to_convert].astype(float)\n",
    "# print(System_DF.dtypes)\n",
    "\n",
    "columns_to_convert = obtener_columnas_object(Partic_DF)\n",
    "# print(columns_to_convert)\n",
    "Partic_DF[columns_to_convert] = Partic_DF[columns_to_convert].replace(',', '.', regex=True)\n",
    "Partic_DF[columns_to_convert] = Partic_DF[columns_to_convert].astype(float)\n",
    "# print(Partic_DF.dtypes)\n"
   ]
  },
  {
   "cell_type": "code",
   "execution_count": null,
   "metadata": {},
   "outputs": [],
   "source": [
    "# Calcula la suma de 'Ke_Energy' para cada valor único en 'Step'\n",
    "grouped_sum = Partic_DF.groupby('Step')['Ke_Energy'].sum()\n",
    "\n",
    "# Asigna la suma correspondiente a cada fila en 'Calo_Cap'\n",
    "Partic_DF['Ke_Total'] = Partic_DF['Step'].map(grouped_sum)\n",
    "\n",
    "Partic_DF['Ke_Mean'] = Partic_DF['Vel_M']**2\n",
    "Partic_DF['Ke_Mean'] = Partic_DF.groupby('Step')['Ke_Mean'].transform('mean')\n",
    "Partic_DF['Ke_Mean'] = Partic_DF['Ke_Mean']*m*0.5\n",
    "\n",
    "\n",
    "Const = 1/(N*kB*(Temp_Target**2))\n",
    "# Partic_DF['Cap_Cal'] = Const * () Partic_DF['Ke_Mean']*m*0.5\n",
    "\n",
    "Partic_DF['Cap_Cal'] = Partic_DF['Ke_Total']**2\n",
    "Partic_DF['Cap_Cal'] = Partic_DF.groupby('Step')['Cap_Cal'].transform('mean')\n",
    "\n",
    "Partic_DF['Cap_Cal'] = Const * ((Partic_DF['Cap_Cal'])-((System_DF['Ke_T'].mean()**2)))\n",
    "\n",
    "# # Agrupa por 'Step' y asigna el cálculo correspondiente a cada fila en la columna 'Columna_Nueva'\n",
    "# Partic_DF['Ke_Mean'] = Partic_DF.groupby('Step')['Vel_M'**2].transform('mean')\n",
    "\n",
    "# # Partic_DF['Ke_Mean'] = 0.5*m*Partic_DF['Ke_Mean']"
   ]
  }
 ],
 "metadata": {
  "kernelspec": {
   "display_name": "Python 3",
   "language": "python",
   "name": "python3"
  },
  "language_info": {
   "codemirror_mode": {
    "name": "ipython",
    "version": 3
   },
   "file_extension": ".py",
   "mimetype": "text/x-python",
   "name": "python",
   "nbconvert_exporter": "python",
   "pygments_lexer": "ipython3",
   "version": "3.9.13"
  },
  "orig_nbformat": 4
 },
 "nbformat": 4,
 "nbformat_minor": 2
}
