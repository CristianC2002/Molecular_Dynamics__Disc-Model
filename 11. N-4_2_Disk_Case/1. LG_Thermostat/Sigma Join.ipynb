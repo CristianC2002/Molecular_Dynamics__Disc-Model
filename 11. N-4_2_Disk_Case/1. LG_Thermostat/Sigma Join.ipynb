{
 "cells": [
  {
   "cell_type": "code",
   "execution_count": null,
   "metadata": {},
   "outputs": [],
   "source": [
    "import pandas as pd\n",
    "import numpy as np\n",
    "import os\n",
    "import re\n",
    "import time\n",
    "import datetime\n",
    "import gc\n",
    "import string\n",
    "import re\n",
    "import seaborn as sns \n",
    "import matplotlib.pyplot as plt \n",
    "import math\n",
    "\n",
    "from decimal import Decimal, getcontext\n",
    "\n",
    "# --------------------------------------------\n",
    "\n",
    "output_dir = r\"E:\\Cristian\\1. Molecular Dinamics\\2. Python Projects\\3. Jupiter Code\\11. N-4_2_Disk_Case\\1. LG_Thermostat\"\n",
    "\n",
    "Sigma1 = pd.read_csv(r'E:\\Cristian\\1. Molecular Dinamics\\2. Python Projects\\3. Jupiter Code\\11. N-4_2_Disk_Case\\1. LG_Thermostat\\1. T_0.001\\91. Sigma_&_Charge_MD.csv',sep='\\t')\n",
    "Sigma2 = pd.read_csv(r'E:\\Cristian\\1. Molecular Dinamics\\2. Python Projects\\3. Jupiter Code\\11. N-4_2_Disk_Case\\1. LG_Thermostat\\2. T_0.01\\91. Sigma_&_Charge_MD.csv',sep='\\t')\n",
    "Sigma3 = pd.read_csv(r'E:\\Cristian\\1. Molecular Dinamics\\2. Python Projects\\3. Jupiter Code\\11. N-4_2_Disk_Case\\1. LG_Thermostat\\3. T_0.05\\91. Sigma_&_Charge_MD.csv',sep='\\t')\n",
    "Sigma4 = pd.read_csv(r'E:\\Cristian\\1. Molecular Dinamics\\2. Python Projects\\3. Jupiter Code\\11. N-4_2_Disk_Case\\1. LG_Thermostat\\4. T_1.0\\91. Sigma_&_Charge_MD.csv',sep='\\t')\n",
    "\n",
    "# --------------------------------------------\n",
    "\n",
    "Sigma1 = Sigma1.filter(['u/R','Sigma'])\n",
    "Sigma2 = Sigma2.filter(['u/R','Sigma'])\n",
    "Sigma3 = Sigma3.filter(['u/R','Sigma'])\n",
    "Sigma4 = Sigma4.filter(['u/R','Sigma'])"
   ]
  },
  {
   "cell_type": "code",
   "execution_count": null,
   "metadata": {},
   "outputs": [],
   "source": [
    "# Renombrar la columna 'Sigma' en cada dataframe\n",
    "Sigma1 = Sigma1.rename(columns={'Sigma': '0.001'})\n",
    "Sigma2 = Sigma2.rename(columns={'Sigma': '0.01'})\n",
    "Sigma3 = Sigma3.rename(columns={'Sigma': '0.05'})\n",
    "Sigma4 = Sigma4.rename(columns={'Sigma': '1.0'})\n",
    "\n",
    "# Unir los dataframes utilizando un left join\n",
    "Sigma_Total = Sigma1.merge(Sigma2, on='u/R', how='left').merge(Sigma3, on='u/R', how='left').merge(Sigma4, on='u/R', how='left')\n"
   ]
  },
  {
   "cell_type": "code",
   "execution_count": null,
   "metadata": {},
   "outputs": [],
   "source": [
    "import scipy.special as sps\n",
    "\n",
    "r_2 = 1.0\n",
    "r_G = 0.5\n",
    "\n",
    "Muestras = 50               # Número de muestras\n",
    "\n",
    "e0 = 1\n",
    "\n",
    "# Lista de valores de Z que deseas graficar\n",
    "valores_Z = ['0.001','0.01','0.05','1.0']\n",
    "\n",
    "\n",
    "\n",
    "for Z in valores_Z:\n",
    "    print(Z)\n",
    "    columna_potencial = f'{Z}'\n",
    "    sns.lineplot(data=Sigma_Total, x='u/R', y=columna_potencial, label=f'T={Z}')\n",
    "\n",
    "# Personaliza el gráfico (títulos y etiquetas)\n",
    "# plt.title('Gráfico de Potencial en función de U para diferentes valores de Z')\n",
    "plt.xlabel('u/R')\n",
    "plt.ylabel('Sigma')\n",
    "\n",
    "plt.ylim(0, 9.5)\n",
    "\n",
    "# Agrega una leyenda\n",
    "plt.legend(title='Temperature')\n",
    "\n",
    "plt.savefig(os.path.join(output_dir, \"Sigma_Comp.png\"))\n",
    "\n",
    "Sigma_Total.to_csv(os.path.join(output_dir, f\"Sigma_Join.csv\"), sep='\\t', index=False)"
   ]
  }
 ],
 "metadata": {
  "kernelspec": {
   "display_name": "Python 3",
   "language": "python",
   "name": "python3"
  },
  "language_info": {
   "codemirror_mode": {
    "name": "ipython",
    "version": 3
   },
   "file_extension": ".py",
   "mimetype": "text/x-python",
   "name": "python",
   "nbconvert_exporter": "python",
   "pygments_lexer": "ipython3",
   "version": "3.9.13"
  },
  "orig_nbformat": 4
 },
 "nbformat": 4,
 "nbformat_minor": 2
}
