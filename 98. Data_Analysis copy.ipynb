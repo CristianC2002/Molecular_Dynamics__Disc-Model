{
 "cells": [
  {
   "cell_type": "code",
   "execution_count": 1,
   "metadata": {},
   "outputs": [],
   "source": [
    "import pandas as pd\n",
    "import numpy as np\n",
    "import os\n",
    "import re\n",
    "import time\n",
    "import datetime\n",
    "import gc\n",
    "import string\n",
    "import re\n",
    "import seaborn as sns \n",
    "import matplotlib.pyplot as plt \n",
    "import math\n",
    "\n",
    "from decimal import Decimal, getcontext\n",
    "\n",
    "# --------------------------------------------\n",
    "\n",
    "output_dir = r\"E:\\Cristian\\1. Molecular Dinamics\\2. Python Projects\\3. Jupiter Code\\7. Nose_Hoover Fixed\\2. N_1000\\1. Range_Ok\\1. T_0.03\"\n",
    "\n",
    "# Construir las rutas de los archivos basadas en output_dir\n",
    "particle_data_file = os.path.join(output_dir, \"91. Sigma_&_Charge_MD.csv\")\n",
    "system_data_file = os.path.join(output_dir, \"92. Potencial_MD.csv\")\n",
    "pos_data_file = os.path.join(output_dir, \"Particle_Data.csv\")\n",
    "\n",
    "Sigma_DF = pd.read_csv(particle_data_file,sep='\\t')\n",
    "Potencial_DF = pd.read_csv(system_data_file,sep='\\t')\n",
    "Partic_DF = pd.read_csv(pos_data_file)\n"
   ]
  },
  {
   "cell_type": "code",
   "execution_count": 2,
   "metadata": {},
   "outputs": [],
   "source": [
    "Partic_DF = Partic_DF[(Partic_DF['Step'] == Partic_DF['Step'].max())]\n",
    "\n",
    "Potencial_DF['u/R'] = Potencial_DF['U']/4.0"
   ]
  },
  {
   "cell_type": "code",
   "execution_count": 6,
   "metadata": {},
   "outputs": [],
   "source": [
    "Sigma_DF        = Sigma_DF[['u/R','Sigma','q/Q']]\n",
    "Potencial_DF    = Potencial_DF[['U','u/R','Potencial_0.004', 'Potencial_0.04', \n",
    "                   'Potencial_0.08', 'Potencial_2.0', 'Potencial_4.0',\n",
    "                   'Potencial_8.0', 'Potencial_40.0']]\n",
    "Partic_DF       = Partic_DF[['Step','Particle','X_Pos','Y_Pos']]"
   ]
  },
  {
   "cell_type": "code",
   "execution_count": 7,
   "metadata": {},
   "outputs": [],
   "source": [
    "Rou_Out = r'C:\\Users\\ESTACION\\Desktop'\n",
    "\n",
    "Sigma_DF.to_csv(os.path.join(Rou_Out,'Sigma_Data.csv'), sep='\\t', index=False)\n",
    "Potencial_DF.to_csv(os.path.join(Rou_Out,'Potencial_Data.csv'), sep='\\t', index=False)\n",
    "Partic_DF.to_csv(os.path.join(Rou_Out,'Positions.csv'), sep='\\t', index=False)"
   ]
  }
 ],
 "metadata": {
  "kernelspec": {
   "display_name": "Python 3",
   "language": "python",
   "name": "python3"
  },
  "language_info": {
   "codemirror_mode": {
    "name": "ipython",
    "version": 3
   },
   "file_extension": ".py",
   "mimetype": "text/x-python",
   "name": "python",
   "nbconvert_exporter": "python",
   "pygments_lexer": "ipython3",
   "version": "3.9.13"
  },
  "orig_nbformat": 4
 },
 "nbformat": 4,
 "nbformat_minor": 2
}
