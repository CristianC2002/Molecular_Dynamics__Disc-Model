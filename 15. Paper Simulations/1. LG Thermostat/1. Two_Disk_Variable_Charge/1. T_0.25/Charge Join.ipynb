{
 "cells": [
  {
   "cell_type": "code",
   "execution_count": 1,
   "metadata": {},
   "outputs": [],
   "source": [
    "import pandas as pd\n",
    "import numpy as np\n",
    "import os\n",
    "import re\n",
    "import time\n",
    "import datetime\n",
    "import gc\n",
    "import string\n",
    "import re\n",
    "import seaborn as sns \n",
    "import matplotlib.pyplot as plt \n",
    "import math\n",
    "\n",
    "from decimal import Decimal, getcontext\n",
    "\n",
    "# --------------------------------------------\n",
    "\n",
    "output_dir = r\"E:\\Cristian\\1. Molecular Dinamics\\2. Python Projects\\3. Jupiter Code\\15. Paper Simulations\\1. LG Thermostat\\1. Two_Disk_Variable_Charge\\1. T_0.25\"\n",
    "\n",
    "Charge1 = pd.read_csv(r'E:\\Cristian\\1. Molecular Dinamics\\2. Python Projects\\3. Jupiter Code\\15. Paper Simulations\\1. LG Thermostat\\1. Two_Disk_Variable_Charge\\1. T_0.25\\1. C1_1.0_C2_1.0\\91. Sigma_&_Charge_MD.csv',sep='\\t')\n",
    "Charge2 = pd.read_csv(r'E:\\Cristian\\1. Molecular Dinamics\\2. Python Projects\\3. Jupiter Code\\15. Paper Simulations\\1. LG Thermostat\\1. Two_Disk_Variable_Charge\\1. T_0.25\\2. C1_1.0_C2_0.75\\91. Sigma_&_Charge_MD.csv',sep='\\t')\n",
    "Charge3 = pd.read_csv(r'E:\\Cristian\\1. Molecular Dinamics\\2. Python Projects\\3. Jupiter Code\\15. Paper Simulations\\1. LG Thermostat\\1. Two_Disk_Variable_Charge\\1. T_0.25\\3. C1_1.0_C2_0.5\\91. Sigma_&_Charge_MD.csv',sep='\\t')\n",
    "Charge4 = pd.read_csv(r'E:\\Cristian\\1. Molecular Dinamics\\2. Python Projects\\3. Jupiter Code\\15. Paper Simulations\\1. LG Thermostat\\1. Two_Disk_Variable_Charge\\1. T_0.25\\4. C1_1.0_C2_0.25\\91. Sigma_&_Charge_MD.csv',sep='\\t')\n",
    "Charge5 = pd.read_csv(r'E:\\Cristian\\1. Molecular Dinamics\\2. Python Projects\\3. Jupiter Code\\15. Paper Simulations\\1. LG Thermostat\\1. Two_Disk_Variable_Charge\\1. T_0.25\\5. C1_1.0_C2_0.0\\91. Sigma_&_Charge_MD.csv',sep='\\t')\n",
    "Charge6 = pd.read_csv(r'E:\\Cristian\\1. Molecular Dinamics\\2. Python Projects\\3. Jupiter Code\\15. Paper Simulations\\1. LG Thermostat\\1. Two_Disk_Variable_Charge\\1. T_0.25\\6. C1_1.0_C2_-0.25\\91. Sigma_&_Charge_MD.csv',sep='\\t')\n",
    "Charge7 = pd.read_csv(r'E:\\Cristian\\1. Molecular Dinamics\\2. Python Projects\\3. Jupiter Code\\15. Paper Simulations\\1. LG Thermostat\\1. Two_Disk_Variable_Charge\\1. T_0.25\\7. C1_1.0_C2_-0.5\\91. Sigma_&_Charge_MD.csv',sep='\\t')\n",
    "Charge8 = pd.read_csv(r'E:\\Cristian\\1. Molecular Dinamics\\2. Python Projects\\3. Jupiter Code\\15. Paper Simulations\\1. LG Thermostat\\1. Two_Disk_Variable_Charge\\1. T_0.25\\8. C1_1.0_C2_-0.75\\91. Sigma_&_Charge_MD.csv',sep='\\t')\n",
    "Charge9 = pd.read_csv(r'E:\\Cristian\\1. Molecular Dinamics\\2. Python Projects\\3. Jupiter Code\\15. Paper Simulations\\1. LG Thermostat\\1. Two_Disk_Variable_Charge\\1. T_0.25\\9. C1_1.0_C2_-1.0\\91. Sigma_&_Charge_MD.csv',sep='\\t')\n",
    "\n",
    "# --------------------------------------------\n",
    "\n",
    "Charge1 = Charge1.filter(['u/R','q/Q'])\n",
    "Charge2 = Charge2.filter(['u/R','q/Q'])\n",
    "Charge3 = Charge3.filter(['u/R','q/Q'])\n",
    "Charge4 = Charge4.filter(['u/R','q/Q'])\n",
    "Charge5 = Charge5.filter(['u/R','q/Q'])\n",
    "Charge6 = Charge6.filter(['u/R','q/Q'])\n",
    "Charge7 = Charge7.filter(['u/R','q/Q'])\n",
    "Charge8 = Charge8.filter(['u/R','q/Q'])\n",
    "Charge9 = Charge9.filter(['u/R','q/Q'])"
   ]
  },
  {
   "cell_type": "code",
   "execution_count": 3,
   "metadata": {},
   "outputs": [
    {
     "ename": "NameError",
     "evalue": "name 'Sigma1' is not defined",
     "output_type": "error",
     "traceback": [
      "\u001b[1;31m---------------------------------------------------------------------------\u001b[0m",
      "\u001b[1;31mNameError\u001b[0m                                 Traceback (most recent call last)",
      "\u001b[1;32me:\\Cristian\\1. Molecular Dinamics\\2. Python Projects\\3. Jupiter Code\\15. Paper Simulations\\1. LG Thermostat\\1. Two_Disk_Variable_Charge\\1. T_0.25\\Charge Join.ipynb Cell 2\u001b[0m line \u001b[0;36m1\n\u001b[0;32m     <a href='vscode-notebook-cell:/e%3A/Cristian/1.%20Molecular%20Dinamics/2.%20Python%20Projects/3.%20Jupiter%20Code/15.%20Paper%20Simulations/1.%20LG%20Thermostat/1.%20Two_Disk_Variable_Charge/1.%20T_0.25/Charge%20Join.ipynb#W1sZmlsZQ%3D%3D?line=9'>10</a>\u001b[0m Charge9 \u001b[39m=\u001b[39m Charge9\u001b[39m.\u001b[39mrename(columns\u001b[39m=\u001b[39m{\u001b[39m'\u001b[39m\u001b[39mq/Q\u001b[39m\u001b[39m'\u001b[39m: \u001b[39m'\u001b[39m\u001b[39mq/Q_-1.0\u001b[39m\u001b[39m'\u001b[39m})\n\u001b[0;32m     <a href='vscode-notebook-cell:/e%3A/Cristian/1.%20Molecular%20Dinamics/2.%20Python%20Projects/3.%20Jupiter%20Code/15.%20Paper%20Simulations/1.%20LG%20Thermostat/1.%20Two_Disk_Variable_Charge/1.%20T_0.25/Charge%20Join.ipynb#W1sZmlsZQ%3D%3D?line=11'>12</a>\u001b[0m \u001b[39m# Unir los dataframes utilizando un left join\u001b[39;00m\n\u001b[1;32m---> <a href='vscode-notebook-cell:/e%3A/Cristian/1.%20Molecular%20Dinamics/2.%20Python%20Projects/3.%20Jupiter%20Code/15.%20Paper%20Simulations/1.%20LG%20Thermostat/1.%20Two_Disk_Variable_Charge/1.%20T_0.25/Charge%20Join.ipynb#W1sZmlsZQ%3D%3D?line=12'>13</a>\u001b[0m Charge_Total \u001b[39m=\u001b[39m Sigma1\u001b[39m.\u001b[39mmerge(Sigma2, on\u001b[39m=\u001b[39m\u001b[39m'\u001b[39m\u001b[39mu/R\u001b[39m\u001b[39m'\u001b[39m, how\u001b[39m=\u001b[39m\u001b[39m'\u001b[39m\u001b[39mleft\u001b[39m\u001b[39m'\u001b[39m)\u001b[39m.\u001b[39mmerge(Sigma3, on\u001b[39m=\u001b[39m\u001b[39m'\u001b[39m\u001b[39mu/R\u001b[39m\u001b[39m'\u001b[39m, how\u001b[39m=\u001b[39m\u001b[39m'\u001b[39m\u001b[39mleft\u001b[39m\u001b[39m'\u001b[39m)\u001b[39m.\u001b[39mmerge(Sigma4, on\u001b[39m=\u001b[39m\u001b[39m'\u001b[39m\u001b[39mu/R\u001b[39m\u001b[39m'\u001b[39m, how\u001b[39m=\u001b[39m\u001b[39m'\u001b[39m\u001b[39mleft\u001b[39m\u001b[39m'\u001b[39m)\u001b[39m.\u001b[39mmerge(Sigma5, on\u001b[39m=\u001b[39m\u001b[39m'\u001b[39m\u001b[39mu/R\u001b[39m\u001b[39m'\u001b[39m, how\u001b[39m=\u001b[39m\u001b[39m'\u001b[39m\u001b[39mleft\u001b[39m\u001b[39m'\u001b[39m)\u001b[39m.\u001b[39mmerge(Sigma6, on\u001b[39m=\u001b[39m\u001b[39m'\u001b[39m\u001b[39mu/R\u001b[39m\u001b[39m'\u001b[39m, how\u001b[39m=\u001b[39m\u001b[39m'\u001b[39m\u001b[39mleft\u001b[39m\u001b[39m'\u001b[39m)\u001b[39m.\u001b[39mmerge(Sigma7, on\u001b[39m=\u001b[39m\u001b[39m'\u001b[39m\u001b[39mu/R\u001b[39m\u001b[39m'\u001b[39m, how\u001b[39m=\u001b[39m\u001b[39m'\u001b[39m\u001b[39mleft\u001b[39m\u001b[39m'\u001b[39m)\u001b[39m.\u001b[39mmerge(Sigma8, on\u001b[39m=\u001b[39m\u001b[39m'\u001b[39m\u001b[39mu/R\u001b[39m\u001b[39m'\u001b[39m, how\u001b[39m=\u001b[39m\u001b[39m'\u001b[39m\u001b[39mleft\u001b[39m\u001b[39m'\u001b[39m)\u001b[39m.\u001b[39mmerge(Sigma9, on\u001b[39m=\u001b[39m\u001b[39m'\u001b[39m\u001b[39mu/R\u001b[39m\u001b[39m'\u001b[39m, how\u001b[39m=\u001b[39m\u001b[39m'\u001b[39m\u001b[39mleft\u001b[39m\u001b[39m'\u001b[39m)\n",
      "\u001b[1;31mNameError\u001b[0m: name 'Sigma1' is not defined"
     ]
    }
   ],
   "source": [
    "# Renombrar la columna 'Charge' en cada dataframe\n",
    "Charge1 = Charge1.rename(columns={'q/Q': 'q/Q_1.0'})\n",
    "Charge2 = Charge2.rename(columns={'q/Q': 'q/Q_0.75'})\n",
    "Charge3 = Charge3.rename(columns={'q/Q': 'q/Q_0.50'})\n",
    "Charge4 = Charge4.rename(columns={'q/Q': 'q/Q_0.25'})\n",
    "Charge5 = Charge5.rename(columns={'q/Q': 'q/Q_0.0'})\n",
    "Charge6 = Charge6.rename(columns={'q/Q': 'q/Q_-0.25'})\n",
    "Charge7 = Charge7.rename(columns={'q/Q': 'q/Q_-0.50'})\n",
    "Charge8 = Charge8.rename(columns={'q/Q': 'q/Q_-0.75'})\n",
    "Charge9 = Charge9.rename(columns={'q/Q': 'q/Q_-1.0'})\n",
    "\n",
    "# Unir los dataframes utilizando un left join\n",
    "Charge_Total = Charge1.merge(Charge2, on='u/R', how='left').merge(Charge3, on='u/R', how='left').merge(Charge4, on='u/R', how='left').merge(Charge5, on='u/R', how='left').merge(Charge6, on='u/R', how='left').merge(Charge7, on='u/R', how='left').merge(Charge8, on='u/R', how='left').merge(Charge9, on='u/R', how='left')\n",
    "\n"
   ]
  },
  {
   "cell_type": "code",
   "execution_count": null,
   "metadata": {},
   "outputs": [],
   "source": [
    "import scipy.special as sps\n",
    "\n",
    "r_2 = 8.0\n",
    "r_G = 5.0\n",
    "\n",
    "Muestras = 50               # Número de muestras\n",
    "\n",
    "e0 = 1\n",
    "\n",
    "\n",
    "# valores_Z = list(Sigma_Total.columns())\n",
    "\n",
    "for Z in valores_Z:\n",
    "    print(Z)\n",
    "    columna_potencial = f'{Z}'\n",
    "    sns.lineplot(data=Sigma_Total, x='u/R', y=columna_potencial, label=f'T={Z}')\n",
    "\n",
    "# Personaliza el gráfico (títulos y etiquetas)\n",
    "# plt.title('Gráfico de Potencial en función de U para diferentes valores de Z')\n",
    "plt.xlabel('u/R')\n",
    "plt.ylabel('Sigma')\n",
    "\n",
    "# plt.ylim(0, 1.5)\n",
    "\n",
    "# Agrega una leyenda\n",
    "plt.legend(title='Temperature',loc='upper left')\n",
    "\n",
    "plt.savefig(os.path.join(output_dir, \"Sigma_Comp.png\"))\n",
    "\n",
    "Sigma_Total.to_csv(os.path.join(output_dir, f\"Charge_Join.csv\"), sep='\\t', index=False)"
   ]
  },
  {
   "cell_type": "code",
   "execution_count": null,
   "metadata": {},
   "outputs": [],
   "source": [
    "# del columna_potencial,Charge1,Sigma2,Sigma3,Sigma4,Sigma5,Sigma6,Sigma7,Sigma8,Sigma9,Sigma_Total,valores_Z,Z"
   ]
  }
 ],
 "metadata": {
  "kernelspec": {
   "display_name": "Python 3",
   "language": "python",
   "name": "python3"
  },
  "language_info": {
   "codemirror_mode": {
    "name": "ipython",
    "version": 3
   },
   "file_extension": ".py",
   "mimetype": "text/x-python",
   "name": "python",
   "nbconvert_exporter": "python",
   "pygments_lexer": "ipython3",
   "version": "3.9.13"
  },
  "orig_nbformat": 4
 },
 "nbformat": 4,
 "nbformat_minor": 2
}
